{
 "cells": [
  {
   "cell_type": "code",
   "execution_count": 1,
   "metadata": {},
   "outputs": [],
   "source": [
    "import pickle"
   ]
  },
  {
   "cell_type": "code",
   "execution_count": 2,
   "metadata": {},
   "outputs": [],
   "source": [
    "with open('MRC Psycholinguistic Database.txt', 'r') as file:\n",
    "    data = [line.replace('\\n', '') for line in file.readlines()]"
   ]
  },
  {
   "cell_type": "code",
   "execution_count": 3,
   "metadata": {},
   "outputs": [],
   "source": [
    "feature_list = ['AOA', 'BFRQ', 'CNC', 'KFCAT', 'TYPE', 'FAM', 'KFSMP', 'CPOS', \n",
    "                'IMG', 'VARP', 'KFFRQ', 'NLET', 'CMEAN', 'PMEAN', 'CSYN', 'NPHN', \n",
    "                'MRPH', 'STAT', 'NSYL', 'T-LFRQ', 'PLUR', 'CAP', 'STRESS']\n",
    "str_features = ['TYPE', 'CPOS', 'VARP', 'CSYN', 'MRPH', 'STAT', 'PLUR', 'CAP']\n",
    "\n",
    "for feat in str_features:\n",
    "    assert feat in feature_list"
   ]
  },
  {
   "cell_type": "code",
   "execution_count": 4,
   "metadata": {},
   "outputs": [],
   "source": [
    "def split_line(line):\n",
    "    word = line[:25].strip()\n",
    "    data = [item if item != '-' else None for item in line[25:].split()]\n",
    "    \n",
    "    return word, data"
   ]
  },
  {
   "cell_type": "code",
   "execution_count": 5,
   "metadata": {},
   "outputs": [],
   "source": [
    "def get_features(data, mrc_key):\n",
    "    feature_dict = {}\n",
    "    for feature_index in range(len(feature_list)):\n",
    "        feature = feature_list[feature_index]\n",
    "        if feature not in str_features and data[feature_index]:\n",
    "            val = int(data[feature_index])\n",
    "        else:\n",
    "            val = data[feature_index]\n",
    "        feature_dict[feature] = val\n",
    "    \n",
    "    return feature_dict"
   ]
  },
  {
   "cell_type": "code",
   "execution_count": 6,
   "metadata": {},
   "outputs": [],
   "source": [
    "mrcdb = {}\n",
    "\n",
    "for line in data:\n",
    "    word, data = split_line(line)\n",
    "    num_filled_items = sum([1 for item in data if item])\n",
    "    assert len(data) == len(feature_list)\n",
    "    \n",
    "    mrc_key = (word, data[feature_list.index('CSYN')])\n",
    "    if mrc_key in mrcdb:\n",
    "        match = mrcdb[mrc_key]\n",
    "        if num_filled_items <= sum([1 for feature in match if match[feature]]):\n",
    "            continue\n",
    "            \n",
    "    mrcdb[mrc_key] = get_features(data, mrc_key)"
   ]
  },
  {
   "cell_type": "code",
   "execution_count": 7,
   "metadata": {},
   "outputs": [],
   "source": [
    "with open('mrc.pickle', 'wb') as handle:\n",
    "    pickle.dump(mrcdb, handle, protocol=pickle.HIGHEST_PROTOCOL)"
   ]
  }
 ],
 "metadata": {
  "kernelspec": {
   "display_name": "Python 3",
   "language": "python",
   "name": "python3"
  },
  "language_info": {
   "codemirror_mode": {
    "name": "ipython",
    "version": 3
   },
   "file_extension": ".py",
   "mimetype": "text/x-python",
   "name": "python",
   "nbconvert_exporter": "python",
   "pygments_lexer": "ipython3",
   "version": "3.7.3"
  }
 },
 "nbformat": 4,
 "nbformat_minor": 2
}
